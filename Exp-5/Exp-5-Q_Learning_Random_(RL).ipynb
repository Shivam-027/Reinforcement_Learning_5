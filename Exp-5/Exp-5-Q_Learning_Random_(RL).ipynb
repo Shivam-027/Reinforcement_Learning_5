{
  "nbformat": 4,
  "nbformat_minor": 0,
  "metadata": {
    "colab": {
      "provenance": [],
      "toc_visible": true
    },
    "kernelspec": {
      "name": "python3",
      "display_name": "Python 3"
    },
    "language_info": {
      "name": "python"
    }
  },
  "cells": [
    {
      "cell_type": "code",
      "execution_count": 6,
      "metadata": {
        "colab": {
          "base_uri": "https://localhost:8080/"
        },
        "id": "TF6_Ynvi5Q_v",
        "outputId": "dd528cd8-e1de-42a2-d93d-5cf809c24364"
      },
      "outputs": [
        {
          "output_type": "stream",
          "name": "stdout",
          "text": [
            "Enter the number of iterations: 3\n",
            "Q-table after state 2\n",
            "[[0. 0. 0. 0. 0. 0.]\n",
            " [0. 0. 0. 0. 0. 0.]\n",
            " [0. 0. 0. 0. 0. 0.]\n",
            " [0. 0. 0. 0. 0. 0.]\n",
            " [0. 0. 0. 0. 0. 0.]\n",
            " [0. 0. 0. 0. 0. 0.]]\n",
            "Q-table after state 4\n",
            "[[  0.   0.   0.   0.   0.   0.]\n",
            " [  0.   0.   0.   0.   0.   0.]\n",
            " [  0.   0.   0.   0.   0.   0.]\n",
            " [  0.   0.   0.   0.   0.   0.]\n",
            " [  0.   0.   0.   0.   0. 100.]\n",
            " [  0.   0.   0.   0.   0.   0.]]\n",
            "Q-table after state 0\n",
            "[[  0.   0.   0.   0.  80.   0.]\n",
            " [  0.   0.   0.   0.   0.   0.]\n",
            " [  0.   0.   0.   0.   0.   0.]\n",
            " [  0.   0.   0.   0.   0.   0.]\n",
            " [  0.   0.   0.   0.   0. 100.]\n",
            " [  0.   0.   0.   0.   0.   0.]]\n",
            "Final Q-table:\n",
            "[[  0.   0.   0.   0.  80.   0.]\n",
            " [  0.   0.   0.   0.   0.   0.]\n",
            " [  0.   0.   0.   0.   0.   0.]\n",
            " [  0.   0.   0.   0.   0.   0.]\n",
            " [  0.   0.   0.   0.   0. 100.]\n",
            " [  0.   0.   0.   0.   0.   0.]]\n"
          ]
        }
      ],
      "source": [
        "import numpy as np\n",
        "\n",
        "# Define the environment matrix\n",
        "env_matrix = np.array([\n",
        "    [-1, -1, -1, -1, 0, -1],\n",
        "    [-1, -1, -1, 0, -1, 100],\n",
        "    [-1, -1, -1, 0, -1, -1],\n",
        "    [-1, 0, 0, -1, 0, -1],\n",
        "    [0, -1, -1, 0, -1, 100],\n",
        "    [-1, 0, -1, -1, 0, 100]\n",
        "])\n",
        "\n",
        "# Initialize the Q-table with zeros\n",
        "num_states, num_actions = env_matrix.shape\n",
        "Q = np.zeros((num_states, num_actions))\n",
        "\n",
        "# Set hyperparameters\n",
        "gamma = 0.8\n",
        "\n",
        "# Specify the number of iterations\n",
        "num_iterations = int(input(\"Enter the number of iterations: \"))\n",
        "\n",
        "for iteration in range(num_iterations):\n",
        "    # Randomly choose a state\n",
        "    state = np.random.randint(0, num_states)\n",
        "\n",
        "    # Find the non-negative Q-values for the possible actions in the current state\n",
        "    possible_actions = np.where(env_matrix[state] >= 0)[0]\n",
        "\n",
        "    # Update the Q-values for each possible action\n",
        "    for action in possible_actions:\n",
        "        Q[state, action] = env_matrix[state, action] + gamma * np.max(Q[action])\n",
        "\n",
        "    # Print the updated Q-table\n",
        "    print(\"Q-table after state\", state)\n",
        "    print(Q)\n",
        "\n",
        "print(\"Final Q-table:\")\n",
        "print(Q)"
      ]
    }
  ]
}